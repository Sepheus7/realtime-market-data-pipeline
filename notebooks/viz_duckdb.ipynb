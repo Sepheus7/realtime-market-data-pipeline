{
  "cells": [
    {
      "cell_type": "code",
      "execution_count": null,
      "metadata": {},
      "outputs": [],
      "source": [
        "import duckdb\n",
        "import pandas as pd\n",
        "import matplotlib.pyplot as plt\n",
        "import os\n",
        "from pathlib import Path\n",
        "\n",
        "# Prefer DUCKDB_PATH if set (same as consumer), else try common relative paths\n",
        "env_path = os.getenv('DUCKDB_PATH')\n",
        "candidates = [\n",
        "    env_path,\n",
        "    os.path.join('..', 'data', 'pipeline.duckdb'),\n",
        "    os.path.join('data', 'pipeline.duckdb'),\n",
        "]\n",
        "\n",
        "resolved = None\n",
        "for p in candidates:\n",
        "    if p and Path(p).exists():\n",
        "        resolved = p\n",
        "        break\n",
        "\n",
        "if not resolved:\n",
        "    print(\"Could not find DuckDB file. Tried:\")\n",
        "    for p in candidates:\n",
        "        if p:\n",
        "            print(\" -\", os.path.abspath(p))\n",
        "    print(\"Set DUCKDB_PATH or run the consumer with DuckDB sink:\")\n",
        "    print(\"  bash ../scripts/run_consumer.sh --window 60s --slide 10s --sink duckdb\")\n",
        "    raise SystemExit\n",
        "\n",
        "print(\"Using DB:\", os.path.abspath(resolved))\n",
        "con = duckdb.connect(resolved, read_only=True)\n",
        "\n",
        "exists = con.execute(\"select count(*) from duckdb_tables() where table_name = 'features'\").fetchone()[0]\n",
        "if exists == 0:\n",
        "    print(\"Table 'features' not found. Available tables:\")\n",
        "    print(con.execute(\"select table_name from duckdb_tables() order by table_name\").df())\n",
        "    print(\"Run the consumer with DuckDB sink first, e.g.:\")\n",
        "    print(\"  bash ../scripts/run_consumer.sh --window 60s --slide 10s --sink duckdb\")\n",
        "    raise SystemExit\n",
        "\n",
        "df = con.execute(\"\"\"\n",
        "select symbol, window_end as ts, log_return, volatility, num_ticks\n",
        "from features\n",
        "order by ts\n",
        "\"\"\").df()\n",
        "\n",
        "fig, ax = plt.subplots(2, 1, figsize=(10, 6), sharex=True)\n",
        "for sym, g in df.groupby('symbol'):\n",
        "    g.plot(x='ts', y='log_return', ax=ax[0], label=sym)\n",
        "    g.plot(x='ts', y='volatility', ax=ax[1], label=sym)\n",
        "ax[0].set_title('Windowed log returns')\n",
        "ax[1].set_title('Windowed volatility')\n",
        "plt.tight_layout()\n",
        "plt.show()\n"
      ]
    },
    {
      "cell_type": "code",
      "execution_count": null,
      "metadata": {},
      "outputs": [],
      "source": []
    }
  ],
  "metadata": {
    "kernelspec": {
      "display_name": "rtm-pipeline",
      "language": "python",
      "name": "python3"
    },
    "language_info": {
      "codemirror_mode": {
        "name": "ipython",
        "version": 3
      },
      "file_extension": ".py",
      "mimetype": "text/x-python",
      "name": "python",
      "nbconvert_exporter": "python",
      "pygments_lexer": "ipython3",
      "version": "3.11.13"
    }
  },
  "nbformat": 4,
  "nbformat_minor": 2
}
